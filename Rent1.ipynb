{
 "cells": [
  {
   "cell_type": "code",
   "execution_count": 1,
   "id": "0dcf3f08-60d2-43ba-b00b-f2be354c5b89",
   "metadata": {},
   "outputs": [],
   "source": [
    "import requests\n",
    "import json"
   ]
  },
  {
   "cell_type": "code",
   "execution_count": null,
   "id": "012dabdc-7df3-4285-a773-23317182f57a",
   "metadata": {},
   "outputs": [],
   "source": [
    "url=\"\""
   ]
  },
  {
   "cell_type": "code",
   "execution_count": null,
   "id": "414db843-3395-4c26-a128-42bedc72a808",
   "metadata": {},
   "outputs": [],
   "source": [
    " model_input={\n",
    "    \"BHK\": 2\n",
    "    \"Size\": 1100\n",
    "    \"Floor\": 0\n",
    "    \"AreaType\":1\n",
    "    \"City\":2\n",
    "    \"FurnishingStatus\":1\n",
    "    \"TenantPreferred\":1\n",
    " }"
   ]
  },
  {
   "cell_type": "code",
   "execution_count": null,
   "id": "8e2ad4af-d30c-4946-afa9-bf0063d6396c",
   "metadata": {},
   "outputs": [],
   "source": [
    "input_json = json.dumps(model_input)"
   ]
  },
  {
   "cell_type": "code",
   "execution_count": null,
   "id": "0745a45e-262e-41a9-9a1e-dc8613483560",
   "metadata": {},
   "outputs": [],
   "source": [
    "response = requests.post(url,data=input_json)"
   ]
  },
  {
   "cell_type": "code",
   "execution_count": null,
   "id": "3f671290-cc5d-4532-a96d-e777b9eb3694",
   "metadata": {},
   "outputs": [],
   "source": [
    "print(response.text)"
   ]
  }
 ],
 "metadata": {
  "kernelspec": {
   "display_name": "Python 3 (ipykernel)",
   "language": "python",
   "name": "python3"
  },
  "language_info": {
   "codemirror_mode": {
    "name": "ipython",
    "version": 3
   },
   "file_extension": ".py",
   "mimetype": "text/x-python",
   "name": "python",
   "nbconvert_exporter": "python",
   "pygments_lexer": "ipython3",
   "version": "3.9.12"
  }
 },
 "nbformat": 4,
 "nbformat_minor": 5
}
